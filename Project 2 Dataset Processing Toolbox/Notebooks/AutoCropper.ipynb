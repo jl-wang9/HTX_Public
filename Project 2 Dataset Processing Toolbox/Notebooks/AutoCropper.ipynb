{
 "cells": [
  {
   "cell_type": "markdown",
   "metadata": {},
   "source": [
    "# Auto-Cropper\n",
    "Given an image along with its PascalVOC format annotation (XML File), this programme crops out all the objects according to the annotation bounding boxes.\n",
    "\n",
    "**Pre-requistes:**\n",
    "- Folder containing images to extract objects from\n",
    "- Folder containing annotations (XML files) in PascalVOC format\n",
    "\n",
    "**Library to install:**\n",
    "\n",
    "pip install opencv-python"
   ]
  },
  {
   "cell_type": "markdown",
   "metadata": {},
   "source": [
    "### Comment this cell out at the start, set directories, and run"
   ]
  },
  {
   "cell_type": "code",
   "execution_count": null,
   "metadata": {},
   "outputs": [],
   "source": [
    "# Root folder\n",
    "root = 'home/your_root_here'\n",
    "\n",
    "# XML Labels Folder **relative to root**\n",
    "XML_LABELS_FOLDER = \"datasets/images_nonSensitive/annotations\"\n",
    "\n",
    "# Images & Output folder **relative to root**\n",
    "image_dir = \"datasets/images_nonSensitive\"\n",
    "output_dir = \"datasets\"\n",
    "\n",
    "# Runs everything\n",
    "crop_from_manual_XML()"
   ]
  },
  {
   "cell_type": "markdown",
   "metadata": {},
   "source": [
    "### Do not edit anything below"
   ]
  },
  {
   "cell_type": "code",
   "execution_count": null,
   "metadata": {},
   "outputs": [],
   "source": [
    "import os\n",
    "import cv2\n",
    "import xml.etree.ElementTree as ET\n",
    "from xml.dom import minidom\n",
    "from datetime import datetime"
   ]
  },
  {
   "cell_type": "code",
   "execution_count": null,
   "metadata": {},
   "outputs": [],
   "source": [
    "def crop_from_manual_XML():\n",
    "    \"\"\"\n",
    "    Given a PascalVOC XML annotation file and the asociated image, this script \n",
    "    automatically crops out the objects enclosed within the bounding boxes and saves\n",
    "    them as standalone images.\n",
    "    \"\"\"\n",
    "    xml_folder_dir = os.path.join(root, XML_LABELS_FOLDER)\n",
    "    xml_folder_name = os.path.basename(os.path.normpath(xml_folder_dir))\n",
    "    crop_images_output_dir = os.path.join(root, output_dir, 'cropped_samples', f'autocropper_{datetime.now().strftime(\"%Y_%m_%d-%H.%M.%S\")}')\n",
    "    \n",
    "    # Create new crop folder in output\n",
    "    if not os.path.exists(crop_images_output_dir):\n",
    "        os.mkdir(crop_images_output_dir)\n",
    "\n",
    "    # Get full list of XML files\n",
    "    xml_list = [name for name in os.listdir(xml_folder_dir) if os.path.isfile(os.path.join(xml_folder_dir, name))]\n",
    "    \n",
    "    for i, xml_file in enumerate(xml_list):\n",
    "        # Get name of XML file\n",
    "        xml_filename_noext = os.path.splitext(xml_file)[0]\n",
    "        \n",
    "        # Read XML file\n",
    "        tree = ET.parse(os.path.join(xml_folder_dir, xml_file))\n",
    "        my_root = tree.getroot()\n",
    "        \n",
    "        # Open relevant image from main dataset\n",
    "        curr_img = cv2.imread(os.path.join(root, image_dir, f'{xml_filename_noext}.png'))\n",
    "        if curr_img is None:\n",
    "            curr_img = cv2.imread(os.path.join(root, image_dir, f'{xml_filename_noext}.jpg'))\n",
    "            if curr_img is None:\n",
    "                curr_img = cv2.imread(os.path.join(root, image_dir, f'{xml_filename_noext}.tiff'))\n",
    "                if curr_img is None:\n",
    "                    curr_img = cv2.imread(os.path.join(root, image_dir, f'{xml_filename_noext}.tif'))\n",
    "                    if curr_img is None:\n",
    "                        print(f\"Skipped {xml_filename_noext} as image not found or not of right format. XML label must be the same name as image!\")\n",
    "                        continue\n",
    "        \n",
    "        \n",
    "        # Extract bbox coords\n",
    "        name_dict = {}  # Dictionary containing class names and their num of appearances (for generating filenames)\n",
    "        for member in my_root.findall('object'):\n",
    "            \n",
    "            values = (int(member[4][0].text),\n",
    "                     int(member[4][1].text),\n",
    "                     int(member[4][2].text),\n",
    "                     int(member[4][3].text),\n",
    "                     member[0].text\n",
    "                     )\n",
    "            \n",
    "            # Create dictionary of names\n",
    "            if name_dict.get(values[4])==None:\n",
    "                name_dict[values[4]]=1\n",
    "            else:\n",
    "                name_dict[values[4]]+=1\n",
    "            \n",
    "            # Crop image\n",
    "            crop_img = curr_img[values[1]:values[3], values[0]:values[2]]\n",
    "\n",
    "            # Choose unique filename that also reveals the classname\n",
    "            filename = f\"{xml_filename_noext}_{values[4]}_{name_dict[values[4]]}.png\"\n",
    "\n",
    "            # Save image\n",
    "            cv2.imwrite(os.path.join(crop_images_output_dir, filename), crop_img)\n",
    "            \n",
    "        # Counter\n",
    "        if (i+1)%2==0 or i==(len(xml_list)-1):\n",
    "            print(f\"{i+1}/{len(xml_list)} processed!\")\n",
    "            \n",
    "    print(\"Success! Images cropped. See 'cropped_samples' folder\")"
   ]
  }
 ],
 "metadata": {
  "kernelspec": {
   "display_name": "Python 3",
   "language": "python",
   "name": "python3"
  },
  "language_info": {
   "codemirror_mode": {
    "name": "ipython",
    "version": 3
   },
   "file_extension": ".py",
   "mimetype": "text/x-python",
   "name": "python",
   "nbconvert_exporter": "python",
   "pygments_lexer": "ipython3",
   "version": "3.7.4"
  }
 },
 "nbformat": 4,
 "nbformat_minor": 5
}
