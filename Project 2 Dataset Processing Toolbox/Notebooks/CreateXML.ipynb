{
 "cells": [
  {
   "cell_type": "code",
   "execution_count": 36,
   "metadata": {},
   "outputs": [],
   "source": [
    "import xml.etree.ElementTree as ET\n",
    "from xml.dom import minidom\n",
    "import os"
   ]
  },
  {
   "cell_type": "code",
   "execution_count": 5,
   "metadata": {},
   "outputs": [
    {
     "name": "stdout",
     "output_type": "stream",
     "text": [
      "<xml.etree.ElementTree.ElementTree object at 0x000001C83F06E9C8>\n"
     ]
    }
   ],
   "source": [
    "root = ET.Element(\"root\")\n",
    "doc = ET.SubElement(root, \"doc\")\n",
    "\n",
    "ET.SubElement(doc, \"field1\", name=\"blah\").text = \"some value1\"\n",
    "ET.SubElement(doc, \"field2\", name=\"asdfasd\").text = \"some vlaue2\"\n",
    "\n",
    "tree = ET.ElementTree(root)\n",
    "# tree.write(\"xml/filename.xml\")"
   ]
  },
  {
   "cell_type": "code",
   "execution_count": 10,
   "metadata": {},
   "outputs": [],
   "source": [
    "dom = minidom.parseString(ET.tostring(root))\n",
    "xml_out = dom.toprettyxml(indent='\\t')"
   ]
  },
  {
   "cell_type": "code",
   "execution_count": 12,
   "metadata": {},
   "outputs": [],
   "source": [
    "with open(\"New_Database.xml\", \"w\") as f:\n",
    "    f.write(xml_out)"
   ]
  },
  {
   "cell_type": "markdown",
   "metadata": {},
   "source": [
    "----"
   ]
  },
  {
   "cell_type": "code",
   "execution_count": 29,
   "metadata": {},
   "outputs": [],
   "source": [
    "test_num = 15"
   ]
  },
  {
   "cell_type": "code",
   "execution_count": 32,
   "metadata": {},
   "outputs": [],
   "source": [
    "# Main node\n",
    "annotation = ET.Element(\"annotation\")\n",
    "\n",
    "\n",
    "# Primary nodes\n",
    "ET.SubElement(annotation, \"folder\").text = \"images\"\n",
    "ET.SubElement(annotation, \"filename\").text = \"TO_ADD.jpg\"               #TODO\n",
    "ET.SubElement(annotation, \"path\").text = \"TO_ADD\"                           #TODO\n",
    "source = ET.SubElement(annotation, \"source\")\n",
    "size = ET.SubElement(annotation, \"size\")\n",
    "ET.SubElement(annotation, \"segmented\").text = \"0\"\n",
    "\n",
    "\n",
    "# Source child node\n",
    "ET.SubElement(source, \"database\").text = \"Unknown\"\n",
    "\n",
    "\n",
    "# Size child nodes\n",
    "ET.SubElement(size, \"width\").text = str(test_num)           #TODO\n",
    "ET.SubElement(size, \"height\").text = str(test_num)           #TODO\n",
    "ET.SubElement(size, \"depth\").text = \"1\"\n",
    "\n",
    "\n",
    "# --------------------------------------------------------\n",
    "# OBJECTS (VARIABLE)\n",
    "for i in range(3):\n",
    "    object = ET.SubElement(annotation, \"object\")\n",
    "\n",
    "    # Object child nodes\n",
    "    ET.SubElement(object, \"name\").text = \"CLASS_NAME\"           #TODO - class\n",
    "    ET.SubElement(object, \"pose\").text = \"Unspecified\"\n",
    "    ET.SubElement(object, \"truncated\").text = \"0\"\n",
    "    ET.SubElement(object, \"difficult\").text = \"0\"\n",
    "    bndbox = ET.SubElement(object, \"bndbox\")\n",
    "\n",
    "\n",
    "    # bndbox child nodes                                       #TODO\n",
    "    ET.SubElement(bndbox, \"xmin\").text = \"TO_SPECIFY_NUM\"           \n",
    "    ET.SubElement(bndbox, \"ymin\").text = \"TO_SPECIFY_NUM\"\n",
    "    ET.SubElement(bndbox, \"xmax\").text = \"TO_SPECIFY_NUM\"\n",
    "    ET.SubElement(bndbox, \"ymax\").text = \"TO_SPECIFY_NUM\"\n",
    "\n",
    "\n",
    "# Compile into tree\n",
    "tree = ET.ElementTree(annotation)"
   ]
  },
  {
   "cell_type": "code",
   "execution_count": 33,
   "metadata": {},
   "outputs": [],
   "source": [
    "# Pretty\n",
    "dom = minidom.parseString(ET.tostring(annotation))\n",
    "xml_out = dom.toprettyxml(indent='\\t')"
   ]
  },
  {
   "cell_type": "code",
   "execution_count": 34,
   "metadata": {},
   "outputs": [],
   "source": [
    "# Save\n",
    "with open(\"xml/XML_test6.xml\", \"w\") as f:\n",
    "    f.write(xml_out)"
   ]
  },
  {
   "cell_type": "code",
   "execution_count": 40,
   "metadata": {},
   "outputs": [
    {
     "name": "stdout",
     "output_type": "stream",
     "text": [
      "rifle1\n"
     ]
    }
   ],
   "source": [
    "root = 'C:\\\\Users\\\\airbu\\\\Desktop\\\\HTX\\\\Week_3_4 Threat Image Projection'\n",
    "threats_dir = \"datasets/threats\"\n",
    "selected_threat_name = \"20201005_106_HIGH_0_grey\"\n",
    "\n",
    "threat_tree = ET.parse(os.path.join(root, threats_dir, \"annotations\", f\"{selected_threat_name}.xml\"))\n",
    "threat_class = threat_tree.find(\"object\").find(\"name\").text\n",
    "\n",
    "print(threat_class)"
   ]
  }
 ],
 "metadata": {
  "kernelspec": {
   "display_name": "Python 3",
   "language": "python",
   "name": "python3"
  },
  "language_info": {
   "codemirror_mode": {
    "name": "ipython",
    "version": 3
   },
   "file_extension": ".py",
   "mimetype": "text/x-python",
   "name": "python",
   "nbconvert_exporter": "python",
   "pygments_lexer": "ipython3",
   "version": "3.7.4"
  }
 },
 "nbformat": 4,
 "nbformat_minor": 4
}
